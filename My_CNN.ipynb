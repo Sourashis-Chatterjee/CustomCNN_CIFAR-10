{
  "nbformat": 4,
  "nbformat_minor": 0,
  "metadata": {
    "colab": {
      "provenance": [],
      "gpuType": "T4"
    },
    "kernelspec": {
      "name": "python3",
      "display_name": "Python 3"
    },
    "language_info": {
      "name": "python"
    },
    "accelerator": "GPU"
  },
  "cells": [
    {
      "cell_type": "code",
      "execution_count": 14,
      "metadata": {
        "id": "tfmGGdmPo4H7"
      },
      "outputs": [],
      "source": [
        "import torch\n",
        "import torch.nn as nn\n",
        "import torch.optim as optim\n",
        "import torchvision\n",
        "import torchvision.transforms as transforms\n"
      ]
    },
    {
      "cell_type": "markdown",
      "source": [
        "We first convert the images to tensors, then normalize it with given values\n",
        "The first tuple: (0.4914, 0.4822, 0.4465) is the mean for each of the three color channels: Red, Green, Blue.\n",
        "The second tuple: (0.2023, 0.1994, 0.2010) is the standard deviation for each channel"
      ],
      "metadata": {
        "id": "S6z6QH-E80M-"
      }
    },
    {
      "cell_type": "code",
      "source": [
        "transform = transforms.Compose([\n",
        "    transforms.RandomCrop(32, padding=4),\n",
        "    transforms.RandomHorizontalFlip(),  # data augmentation part added for improvement\n",
        "    transforms.ToTensor(),\n",
        "    transforms.Normalize((0.4914, 0.4822, 0.4465), (0.2023, 0.1994, 0.2010))\n",
        "])\n",
        "#Converting to tensor already scales pixels to [0, 1].\n",
        "#Normalization further centers and scales each channel, which is the standard practice for most deep learning pipelines."
      ],
      "metadata": {
        "id": "3t6LwfePwHLR"
      },
      "execution_count": 15,
      "outputs": []
    },
    {
      "cell_type": "markdown",
      "source": [
        "Loading the dataset using the torchvision.CIFAR class\n",
        "Then taking batches of data, shuffles it for training purpose"
      ],
      "metadata": {
        "id": "Z91_eY2qFQml"
      }
    },
    {
      "cell_type": "code",
      "source": [
        "trainset = torchvision.datasets.CIFAR10(root='./data', train=True, download=True, transform=transform)\n",
        "trainloader = torch.utils.data.DataLoader(trainset, batch_size=64, shuffle=True,)"
      ],
      "metadata": {
        "id": "PYrdGP-b-jK0"
      },
      "execution_count": 16,
      "outputs": []
    },
    {
      "cell_type": "markdown",
      "source": [
        "Same for test data"
      ],
      "metadata": {
        "id": "JCZwIkK0F-Sr"
      }
    },
    {
      "cell_type": "code",
      "source": [
        "testset = torchvision.datasets.CIFAR10(root='./data', train=False, download=True, transform=transform)\n",
        "testloader = torch.utils.data.DataLoader(testset, batch_size=64, shuffle=False)"
      ],
      "metadata": {
        "id": "kov7rr-dF9gY"
      },
      "execution_count": 17,
      "outputs": []
    },
    {
      "cell_type": "markdown",
      "source": [
        "We will now set up the CNN architecture\n",
        "MyCNN class would hold the architecture. 3 Conv layers are used."
      ],
      "metadata": {
        "id": "zkYcatviJP9W"
      }
    },
    {
      "cell_type": "code",
      "source": [
        "dropout_rate = 0.3\n",
        "class MyCNN(nn.Module):\n",
        "  def __init__(self):\n",
        "    super(MyCNN, self).__init__()  # init basically defines the architecture\n",
        "    self.conv1 = nn.Conv2d(3,32,kernel_size = 3, padding = 1)\n",
        "    self.bn1 = nn.BatchNorm2d(32)\n",
        "    self.conv2 = nn.Conv2d(32,64, kernel_size = 3, padding = 1)\n",
        "    self.bn2 = nn.BatchNorm2d(64)\n",
        "    self.conv3 = nn.Conv2d(64,128, kernel_size = 3, padding = 1)\n",
        "    self.bn3 = nn.BatchNorm2d(128)\n",
        "    self.conv4 = nn.Conv2d(128,256, kernel_size = 3, padding = 1)\n",
        "    self.bn4 = nn.BatchNorm2d(256)\n",
        "    self.pool = nn.MaxPool2d(2,2)  # pooling is done for downsampling to reduce the spatial size , retain imp info, decreases no. of parameters\n",
        "    self.fc1 = nn.Linear(256*16*16, 256) # fully connected layer 1 takes the input from pooling and outputs 256 features\n",
        "    self.dropout = nn.Dropout(dropout_rate)\n",
        "    self.fc2 = nn.Linear(256, 10) # maps the 256 features to 10 CIFAR classes\n",
        "    self.relu = nn.ReLU()\n",
        "\n",
        "  def forward(self, x):  # forward pass defines in which way data flows through the architecture\n",
        "    x = self.relu(self.bn1(self.conv1(x)))\n",
        "    x = self.relu(self.bn2(self.conv2(x)))\n",
        "    x = self.relu(self.bn3(self.conv3(x)))\n",
        "    x = self.relu(self.bn4(self.conv4(x)))\n",
        "    x = self.pool(x)\n",
        "    x = x.view(-1, 256 * 16 * 16) #flattening step\n",
        "    x = self.dropout(self.relu(self.fc1(x)))\n",
        "    x = self.fc2(x)\n",
        "    return x\n",
        "\n",
        "# Instantiate the model\n",
        "net = MyCNN()"
      ],
      "metadata": {
        "id": "ku4NqgnHJTZN"
      },
      "execution_count": 18,
      "outputs": []
    },
    {
      "cell_type": "markdown",
      "source": [
        "Setting up the training prerequisites"
      ],
      "metadata": {
        "id": "fLVYNyHizsHB"
      }
    },
    {
      "cell_type": "code",
      "source": [
        "criterion = nn.CrossEntropyLoss()\n",
        "optimizer = optim.Adam(net.parameters(), lr=0.0001) # all parameters of net, lr is learning rate"
      ],
      "metadata": {
        "id": "DbJHOkQttkkI"
      },
      "execution_count": 19,
      "outputs": []
    },
    {
      "cell_type": "markdown",
      "source": [
        "Model Training"
      ],
      "metadata": {
        "id": "Qeb-_YuVBd48"
      }
    },
    {
      "cell_type": "code",
      "source": [
        "num_epochs = 40\n",
        "device = torch.device(\"cuda\" if torch.cuda.is_available() else \"cpu\")\n",
        "net.to(device)\n",
        "\n",
        "for epoch in range(num_epochs):\n",
        "    net.train()\n",
        "    running_loss = 0.0\n",
        "    for i, data in enumerate(trainloader, 0): #trainloader loads all the batches\n",
        "        inputs, labels = data\n",
        "        inputs, labels = inputs.to(device), labels.to(device)  # Move to GPU\n",
        "\n",
        "        optimizer.zero_grad()\n",
        "        outputs = net(inputs)\n",
        "        loss = criterion(outputs, labels)\n",
        "        loss.backward()\n",
        "        optimizer.step()\n",
        "\n",
        "        running_loss += loss.item()\n",
        "        if i % 100 == 99:\n",
        "            print(f\"[{epoch + 1}, {i + 1}] loss: {running_loss / 100:.3f}\")\n",
        "            running_loss = 0.0\n",
        "\n",
        "print(\"Finished Training\")"
      ],
      "metadata": {
        "colab": {
          "base_uri": "https://localhost:8080/"
        },
        "id": "bbKmFUv6BgvB",
        "outputId": "de7c52cb-ccc9-443d-985e-8f2c243119f5"
      },
      "execution_count": 20,
      "outputs": [
        {
          "output_type": "stream",
          "name": "stdout",
          "text": [
            "[1, 100] loss: 2.208\n",
            "[1, 200] loss: 1.912\n",
            "[1, 300] loss: 1.801\n",
            "[1, 400] loss: 1.744\n",
            "[1, 500] loss: 1.707\n",
            "[1, 600] loss: 1.664\n",
            "[1, 700] loss: 1.619\n",
            "[2, 100] loss: 1.556\n",
            "[2, 200] loss: 1.536\n",
            "[2, 300] loss: 1.515\n",
            "[2, 400] loss: 1.484\n",
            "[2, 500] loss: 1.474\n",
            "[2, 600] loss: 1.445\n",
            "[2, 700] loss: 1.435\n",
            "[3, 100] loss: 1.375\n",
            "[3, 200] loss: 1.399\n",
            "[3, 300] loss: 1.388\n",
            "[3, 400] loss: 1.364\n",
            "[3, 500] loss: 1.338\n",
            "[3, 600] loss: 1.353\n",
            "[3, 700] loss: 1.378\n",
            "[4, 100] loss: 1.287\n",
            "[4, 200] loss: 1.299\n",
            "[4, 300] loss: 1.322\n",
            "[4, 400] loss: 1.286\n",
            "[4, 500] loss: 1.299\n",
            "[4, 600] loss: 1.279\n",
            "[4, 700] loss: 1.315\n",
            "[5, 100] loss: 1.300\n",
            "[5, 200] loss: 1.254\n",
            "[5, 300] loss: 1.253\n",
            "[5, 400] loss: 1.254\n",
            "[5, 500] loss: 1.237\n",
            "[5, 600] loss: 1.245\n",
            "[5, 700] loss: 1.225\n",
            "[6, 100] loss: 1.250\n",
            "[6, 200] loss: 1.232\n",
            "[6, 300] loss: 1.233\n",
            "[6, 400] loss: 1.221\n",
            "[6, 500] loss: 1.226\n",
            "[6, 600] loss: 1.204\n",
            "[6, 700] loss: 1.223\n",
            "[7, 100] loss: 1.211\n",
            "[7, 200] loss: 1.191\n",
            "[7, 300] loss: 1.222\n",
            "[7, 400] loss: 1.189\n",
            "[7, 500] loss: 1.190\n",
            "[7, 600] loss: 1.191\n",
            "[7, 700] loss: 1.185\n",
            "[8, 100] loss: 1.178\n",
            "[8, 200] loss: 1.144\n",
            "[8, 300] loss: 1.157\n",
            "[8, 400] loss: 1.155\n",
            "[8, 500] loss: 1.146\n",
            "[8, 600] loss: 1.170\n",
            "[8, 700] loss: 1.151\n",
            "[9, 100] loss: 1.168\n",
            "[9, 200] loss: 1.122\n",
            "[9, 300] loss: 1.151\n",
            "[9, 400] loss: 1.141\n",
            "[9, 500] loss: 1.127\n",
            "[9, 600] loss: 1.141\n",
            "[9, 700] loss: 1.137\n",
            "[10, 100] loss: 1.147\n",
            "[10, 200] loss: 1.129\n",
            "[10, 300] loss: 1.109\n",
            "[10, 400] loss: 1.122\n",
            "[10, 500] loss: 1.116\n",
            "[10, 600] loss: 1.137\n",
            "[10, 700] loss: 1.120\n",
            "[11, 100] loss: 1.095\n",
            "[11, 200] loss: 1.115\n",
            "[11, 300] loss: 1.107\n",
            "[11, 400] loss: 1.124\n",
            "[11, 500] loss: 1.122\n",
            "[11, 600] loss: 1.083\n",
            "[11, 700] loss: 1.099\n",
            "[12, 100] loss: 1.102\n",
            "[12, 200] loss: 1.109\n",
            "[12, 300] loss: 1.090\n",
            "[12, 400] loss: 1.092\n",
            "[12, 500] loss: 1.075\n",
            "[12, 600] loss: 1.078\n",
            "[12, 700] loss: 1.064\n",
            "[13, 100] loss: 1.080\n",
            "[13, 200] loss: 1.080\n",
            "[13, 300] loss: 1.074\n",
            "[13, 400] loss: 1.078\n",
            "[13, 500] loss: 1.078\n",
            "[13, 600] loss: 1.048\n",
            "[13, 700] loss: 1.051\n",
            "[14, 100] loss: 1.058\n",
            "[14, 200] loss: 1.060\n",
            "[14, 300] loss: 1.080\n",
            "[14, 400] loss: 1.041\n",
            "[14, 500] loss: 1.078\n",
            "[14, 600] loss: 1.008\n",
            "[14, 700] loss: 1.059\n",
            "[15, 100] loss: 1.038\n",
            "[15, 200] loss: 1.043\n",
            "[15, 300] loss: 1.038\n",
            "[15, 400] loss: 1.037\n",
            "[15, 500] loss: 1.075\n",
            "[15, 600] loss: 1.026\n",
            "[15, 700] loss: 1.031\n",
            "[16, 100] loss: 1.026\n",
            "[16, 200] loss: 1.044\n",
            "[16, 300] loss: 1.022\n",
            "[16, 400] loss: 1.026\n",
            "[16, 500] loss: 1.028\n",
            "[16, 600] loss: 1.010\n",
            "[16, 700] loss: 1.039\n",
            "[17, 100] loss: 1.005\n",
            "[17, 200] loss: 1.006\n",
            "[17, 300] loss: 1.027\n",
            "[17, 400] loss: 0.997\n",
            "[17, 500] loss: 0.998\n",
            "[17, 600] loss: 1.016\n",
            "[17, 700] loss: 0.996\n",
            "[18, 100] loss: 1.002\n",
            "[18, 200] loss: 1.011\n",
            "[18, 300] loss: 1.001\n",
            "[18, 400] loss: 0.997\n",
            "[18, 500] loss: 1.009\n",
            "[18, 600] loss: 0.979\n",
            "[18, 700] loss: 0.998\n",
            "[19, 100] loss: 1.004\n",
            "[19, 200] loss: 0.965\n",
            "[19, 300] loss: 0.974\n",
            "[19, 400] loss: 0.981\n",
            "[19, 500] loss: 0.999\n",
            "[19, 600] loss: 1.005\n",
            "[19, 700] loss: 1.009\n",
            "[20, 100] loss: 1.000\n",
            "[20, 200] loss: 0.981\n",
            "[20, 300] loss: 0.972\n",
            "[20, 400] loss: 0.981\n",
            "[20, 500] loss: 0.974\n",
            "[20, 600] loss: 1.025\n",
            "[20, 700] loss: 0.955\n",
            "[21, 100] loss: 0.973\n",
            "[21, 200] loss: 0.979\n",
            "[21, 300] loss: 0.944\n",
            "[21, 400] loss: 0.975\n",
            "[21, 500] loss: 0.954\n",
            "[21, 600] loss: 0.969\n",
            "[21, 700] loss: 0.965\n",
            "[22, 100] loss: 0.937\n",
            "[22, 200] loss: 0.954\n",
            "[22, 300] loss: 0.997\n",
            "[22, 400] loss: 0.930\n",
            "[22, 500] loss: 0.954\n",
            "[22, 600] loss: 0.974\n",
            "[22, 700] loss: 0.943\n",
            "[23, 100] loss: 0.931\n",
            "[23, 200] loss: 0.941\n",
            "[23, 300] loss: 0.937\n",
            "[23, 400] loss: 0.924\n",
            "[23, 500] loss: 0.937\n",
            "[23, 600] loss: 0.954\n",
            "[23, 700] loss: 0.947\n",
            "[24, 100] loss: 0.925\n",
            "[24, 200] loss: 0.962\n",
            "[24, 300] loss: 0.942\n",
            "[24, 400] loss: 0.934\n",
            "[24, 500] loss: 0.935\n",
            "[24, 600] loss: 0.951\n",
            "[24, 700] loss: 0.941\n",
            "[25, 100] loss: 0.931\n",
            "[25, 200] loss: 0.954\n",
            "[25, 300] loss: 0.943\n",
            "[25, 400] loss: 0.908\n",
            "[25, 500] loss: 0.940\n",
            "[25, 600] loss: 0.928\n",
            "[25, 700] loss: 0.900\n",
            "[26, 100] loss: 0.932\n",
            "[26, 200] loss: 0.917\n",
            "[26, 300] loss: 0.940\n",
            "[26, 400] loss: 0.900\n",
            "[26, 500] loss: 0.910\n",
            "[26, 600] loss: 0.910\n",
            "[26, 700] loss: 0.925\n",
            "[27, 100] loss: 0.905\n",
            "[27, 200] loss: 0.908\n",
            "[27, 300] loss: 0.909\n",
            "[27, 400] loss: 0.901\n",
            "[27, 500] loss: 0.915\n",
            "[27, 600] loss: 0.901\n",
            "[27, 700] loss: 0.908\n",
            "[28, 100] loss: 0.909\n",
            "[28, 200] loss: 0.905\n",
            "[28, 300] loss: 0.894\n",
            "[28, 400] loss: 0.933\n",
            "[28, 500] loss: 0.892\n",
            "[28, 600] loss: 0.886\n",
            "[28, 700] loss: 0.894\n",
            "[29, 100] loss: 0.904\n",
            "[29, 200] loss: 0.894\n",
            "[29, 300] loss: 0.902\n",
            "[29, 400] loss: 0.894\n",
            "[29, 500] loss: 0.892\n",
            "[29, 600] loss: 0.905\n",
            "[29, 700] loss: 0.886\n",
            "[30, 100] loss: 0.901\n",
            "[30, 200] loss: 0.894\n",
            "[30, 300] loss: 0.891\n",
            "[30, 400] loss: 0.890\n",
            "[30, 500] loss: 0.875\n",
            "[30, 600] loss: 0.891\n",
            "[30, 700] loss: 0.910\n",
            "[31, 100] loss: 0.877\n",
            "[31, 200] loss: 0.864\n",
            "[31, 300] loss: 0.913\n",
            "[31, 400] loss: 0.854\n",
            "[31, 500] loss: 0.874\n",
            "[31, 600] loss: 0.896\n",
            "[31, 700] loss: 0.876\n",
            "[32, 100] loss: 0.867\n",
            "[32, 200] loss: 0.871\n",
            "[32, 300] loss: 0.858\n",
            "[32, 400] loss: 0.894\n",
            "[32, 500] loss: 0.886\n",
            "[32, 600] loss: 0.857\n",
            "[32, 700] loss: 0.891\n",
            "[33, 100] loss: 0.878\n",
            "[33, 200] loss: 0.870\n",
            "[33, 300] loss: 0.856\n",
            "[33, 400] loss: 0.857\n",
            "[33, 500] loss: 0.856\n",
            "[33, 600] loss: 0.874\n",
            "[33, 700] loss: 0.871\n",
            "[34, 100] loss: 0.859\n",
            "[34, 200] loss: 0.863\n",
            "[34, 300] loss: 0.852\n",
            "[34, 400] loss: 0.856\n",
            "[34, 500] loss: 0.853\n",
            "[34, 600] loss: 0.873\n",
            "[34, 700] loss: 0.853\n",
            "[35, 100] loss: 0.854\n",
            "[35, 200] loss: 0.849\n",
            "[35, 300] loss: 0.845\n",
            "[35, 400] loss: 0.843\n",
            "[35, 500] loss: 0.852\n",
            "[35, 600] loss: 0.841\n",
            "[35, 700] loss: 0.855\n",
            "[36, 100] loss: 0.854\n",
            "[36, 200] loss: 0.854\n",
            "[36, 300] loss: 0.841\n",
            "[36, 400] loss: 0.859\n",
            "[36, 500] loss: 0.840\n",
            "[36, 600] loss: 0.838\n",
            "[36, 700] loss: 0.842\n",
            "[37, 100] loss: 0.823\n",
            "[37, 200] loss: 0.851\n",
            "[37, 300] loss: 0.836\n",
            "[37, 400] loss: 0.854\n",
            "[37, 500] loss: 0.852\n",
            "[37, 600] loss: 0.830\n",
            "[37, 700] loss: 0.835\n",
            "[38, 100] loss: 0.851\n",
            "[38, 200] loss: 0.832\n",
            "[38, 300] loss: 0.828\n",
            "[38, 400] loss: 0.808\n",
            "[38, 500] loss: 0.843\n",
            "[38, 600] loss: 0.844\n",
            "[38, 700] loss: 0.838\n",
            "[39, 100] loss: 0.821\n",
            "[39, 200] loss: 0.826\n",
            "[39, 300] loss: 0.850\n",
            "[39, 400] loss: 0.822\n",
            "[39, 500] loss: 0.825\n",
            "[39, 600] loss: 0.836\n",
            "[39, 700] loss: 0.834\n",
            "[40, 100] loss: 0.789\n",
            "[40, 200] loss: 0.845\n",
            "[40, 300] loss: 0.832\n",
            "[40, 400] loss: 0.796\n",
            "[40, 500] loss: 0.816\n",
            "[40, 600] loss: 0.813\n",
            "[40, 700] loss: 0.824\n",
            "Finished Training\n"
          ]
        }
      ]
    },
    {
      "cell_type": "markdown",
      "source": [
        "Validation"
      ],
      "metadata": {
        "id": "BDQ_LxD3FRez"
      }
    },
    {
      "cell_type": "code",
      "source": [],
      "metadata": {
        "id": "ysVgfuWPFS-O"
      },
      "execution_count": null,
      "outputs": []
    },
    {
      "cell_type": "markdown",
      "source": [
        "Model Evaluation"
      ],
      "metadata": {
        "id": "CWmBIgeIB6DU"
      }
    },
    {
      "cell_type": "code",
      "source": [
        "correct = 0\n",
        "total = 0\n",
        "net.eval()\n",
        "\n",
        "with torch.no_grad():\n",
        "    for data in testloader:\n",
        "        images, labels = data\n",
        "        images, labels = images.to(device), labels.to(device)  # if using GPU\n",
        "        outputs = net(images)\n",
        "        _, predicted = torch.max(outputs.data, 1)\n",
        "        total += labels.size(0)\n",
        "        correct += (predicted == labels).sum().item()\n",
        "\n",
        "print(f\"Accuracy of the network on the 10000 test images: {100 * correct / total:.2f}%\")"
      ],
      "metadata": {
        "colab": {
          "base_uri": "https://localhost:8080/"
        },
        "id": "y-uRW9C3B8iv",
        "outputId": "f03011e8-83c4-4607-94bc-05d70b079ed8"
      },
      "execution_count": 21,
      "outputs": [
        {
          "output_type": "stream",
          "name": "stdout",
          "text": [
            "Accuracy of the network on the 10000 test images: 76.83%\n"
          ]
        }
      ]
    },
    {
      "cell_type": "markdown",
      "source": [
        "Computing Predictions and labels"
      ],
      "metadata": {
        "id": "w2tv5dW5LtLt"
      }
    },
    {
      "cell_type": "code",
      "source": [
        "\n",
        "from sklearn.metrics import confusion_matrix, classification_report\n",
        "\n",
        "# Collect all predictions and targets\n",
        "all_preds = []\n",
        "all_labels = []\n",
        "\n",
        "net.eval()\n",
        "with torch.no_grad():\n",
        "    for data in testloader:\n",
        "        images, labels = data\n",
        "        images, labels = images.to(device), labels.to(device)\n",
        "        outputs = net(images)\n",
        "        _, predicted = torch.max(outputs, 1)\n",
        "        all_preds.extend(predicted.cpu().numpy())\n",
        "        all_labels.extend(labels.cpu().numpy())"
      ],
      "metadata": {
        "id": "erMzLhjFIcRS"
      },
      "execution_count": 22,
      "outputs": []
    },
    {
      "cell_type": "markdown",
      "source": [
        "Plotting confusion matrix"
      ],
      "metadata": {
        "id": "BftUB54sMAFR"
      }
    },
    {
      "cell_type": "code",
      "source": [
        "import numpy as np\n",
        "import matplotlib.pyplot as plt\n",
        "from sklearn.metrics import ConfusionMatrixDisplay\n",
        "\n",
        "# Compute confusion matrix\n",
        "cm = confusion_matrix(all_labels, all_preds)\n",
        "\n",
        "# Display confusion matrix\n",
        "disp = ConfusionMatrixDisplay(confusion_matrix=cm)\n",
        "disp.plot(cmap=plt.cm.Blues)\n",
        "plt.title(\"Confusion Matrix\")\n",
        "plt.show()"
      ],
      "metadata": {
        "colab": {
          "base_uri": "https://localhost:8080/",
          "height": 472
        },
        "id": "KjCZibqhInqz",
        "outputId": "a3177dff-563d-466e-954c-b7421b988ff0"
      },
      "execution_count": 23,
      "outputs": [
        {
          "output_type": "display_data",
          "data": {
            "text/plain": [
              "<Figure size 640x480 with 2 Axes>"
            ],
            "image/png": "[encoded data removed]"
          },
          "metadata": {}
        }
      ]
    },
    {
      "cell_type": "markdown",
      "source": [
        "Classification report"
      ],
      "metadata": {
        "id": "QK3IbB0LMFXF"
      }
    },
    {
      "cell_type": "code",
      "source": [
        "from sklearn.metrics import classification_report\n",
        "\n",
        "target_names = [\n",
        "    'airplane', 'automobile', 'bird', 'cat', 'deer',\n",
        "    'dog', 'frog', 'horse', 'ship', 'truck'\n",
        "]\n",
        "\n",
        "print(\"Classification Report:\")\n",
        "print(classification_report(all_labels, all_preds, target_names=target_names))"
      ],
      "metadata": {
        "colab": {
          "base_uri": "https://localhost:8080/"
        },
        "id": "aGfM9Z64Izjg",
        "outputId": "45278631-d1c4-48ec-ea31-42c2cf9bfce5"
      },
      "execution_count": 24,
      "outputs": [
        {
          "output_type": "stream",
          "name": "stdout",
          "text": [
            "Classification Report:\n",
            "              precision    recall  f1-score   support\n",
            "\n",
            "    airplane       0.81      0.75      0.78      1000\n",
            "  automobile       0.88      0.91      0.89      1000\n",
            "        bird       0.68      0.71      0.69      1000\n",
            "         cat       0.64      0.44      0.52      1000\n",
            "        deer       0.79      0.70      0.74      1000\n",
            "         dog       0.63      0.73      0.68      1000\n",
            "        frog       0.84      0.81      0.82      1000\n",
            "       horse       0.72      0.86      0.78      1000\n",
            "        ship       0.85      0.89      0.87      1000\n",
            "       truck       0.85      0.88      0.87      1000\n",
            "\n",
            "    accuracy                           0.77     10000\n",
            "   macro avg       0.77      0.77      0.76     10000\n",
            "weighted avg       0.77      0.77      0.76     10000\n",
            "\n"
          ]
        }
      ]
    }
  ]
}